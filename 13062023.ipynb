{
 "cells": [
  {
   "cell_type": "markdown",
   "id": "616c47b7",
   "metadata": {},
   "source": [
    "###   Creating dataframes using different methods"
   ]
  },
  {
   "cell_type": "code",
   "execution_count": 1,
   "id": "a9952981",
   "metadata": {},
   "outputs": [],
   "source": [
    "import pandas as pd\n",
    "import numpy as np"
   ]
  },
  {
   "cell_type": "markdown",
   "id": "fc6d62e6",
   "metadata": {},
   "source": [
    "#### Finding data type"
   ]
  },
  {
   "cell_type": "code",
   "execution_count": 5,
   "id": "ab5cb7d2",
   "metadata": {
    "scrolled": true
   },
   "outputs": [
    {
     "name": "stdout",
     "output_type": "stream",
     "text": [
      "object\n"
     ]
    }
   ],
   "source": [
    "myself=pd.Series(['jimin','jungkook','namjoon','jhope','jin','suga','tae'])\n",
    "print(myself.dtype)"
   ]
  },
  {
   "cell_type": "markdown",
   "id": "c50b8c7b",
   "metadata": {},
   "source": [
    "#### Converting to List"
   ]
  },
  {
   "cell_type": "code",
   "execution_count": 6,
   "id": "302b474b",
   "metadata": {},
   "outputs": [
    {
     "name": "stdout",
     "output_type": "stream",
     "text": [
      "['jimin', 'jungkook', 'namjoon', 'jhope', 'jin', 'suga', 'tae']\n"
     ]
    }
   ],
   "source": [
    "print(myself.tolist())"
   ]
  },
  {
   "cell_type": "markdown",
   "id": "53873074",
   "metadata": {},
   "source": [
    "#### Empty data frame"
   ]
  },
  {
   "cell_type": "code",
   "execution_count": 7,
   "id": "213e0a19",
   "metadata": {},
   "outputs": [
    {
     "name": "stdout",
     "output_type": "stream",
     "text": [
      "Empty DataFrame\n",
      "Columns: []\n",
      "Index: []\n"
     ]
    }
   ],
   "source": [
    "mydf=pd.DataFrame()\n",
    "print(mydf)"
   ]
  },
  {
   "cell_type": "markdown",
   "id": "ec7c7b95",
   "metadata": {},
   "source": [
    "####  1. Dataframe using list of lists"
   ]
  },
  {
   "cell_type": "code",
   "execution_count": 9,
   "id": "4a6c0f45",
   "metadata": {},
   "outputs": [
    {
     "data": {
      "text/html": [
       "<div>\n",
       "<style scoped>\n",
       "    .dataframe tbody tr th:only-of-type {\n",
       "        vertical-align: middle;\n",
       "    }\n",
       "\n",
       "    .dataframe tbody tr th {\n",
       "        vertical-align: top;\n",
       "    }\n",
       "\n",
       "    .dataframe thead th {\n",
       "        text-align: right;\n",
       "    }\n",
       "</style>\n",
       "<table border=\"1\" class=\"dataframe\">\n",
       "  <thead>\n",
       "    <tr style=\"text-align: right;\">\n",
       "      <th></th>\n",
       "      <th>Person</th>\n",
       "      <th>IQ</th>\n",
       "    </tr>\n",
       "  </thead>\n",
       "  <tbody>\n",
       "    <tr>\n",
       "      <th>0</th>\n",
       "      <td>pramish</td>\n",
       "      <td>9.9</td>\n",
       "    </tr>\n",
       "    <tr>\n",
       "      <th>1</th>\n",
       "      <td>anjana</td>\n",
       "      <td>8.9</td>\n",
       "    </tr>\n",
       "    <tr>\n",
       "      <th>2</th>\n",
       "      <td>jibin</td>\n",
       "      <td>7.5</td>\n",
       "    </tr>\n",
       "    <tr>\n",
       "      <th>3</th>\n",
       "      <td>rahul</td>\n",
       "      <td>6.3</td>\n",
       "    </tr>\n",
       "    <tr>\n",
       "      <th>4</th>\n",
       "      <td>abhi</td>\n",
       "      <td>7.0</td>\n",
       "    </tr>\n",
       "    <tr>\n",
       "      <th>5</th>\n",
       "      <td>shanfeer</td>\n",
       "      <td>5.0</td>\n",
       "    </tr>\n",
       "    <tr>\n",
       "      <th>6</th>\n",
       "      <td>soorya</td>\n",
       "      <td>2.0</td>\n",
       "    </tr>\n",
       "    <tr>\n",
       "      <th>7</th>\n",
       "      <td>anuja</td>\n",
       "      <td>10.0</td>\n",
       "    </tr>\n",
       "    <tr>\n",
       "      <th>8</th>\n",
       "      <td>gopu</td>\n",
       "      <td>1.5</td>\n",
       "    </tr>\n",
       "    <tr>\n",
       "      <th>9</th>\n",
       "      <td>revathy</td>\n",
       "      <td>6.0</td>\n",
       "    </tr>\n",
       "  </tbody>\n",
       "</table>\n",
       "</div>"
      ],
      "text/plain": [
       "     Person    IQ\n",
       "0   pramish   9.9\n",
       "1    anjana   8.9\n",
       "2     jibin   7.5\n",
       "3     rahul   6.3\n",
       "4      abhi   7.0\n",
       "5  shanfeer   5.0\n",
       "6    soorya   2.0\n",
       "7     anuja  10.0\n",
       "8      gopu   1.5\n",
       "9   revathy   6.0"
      ]
     },
     "execution_count": 9,
     "metadata": {},
     "output_type": "execute_result"
    }
   ],
   "source": [
    "IQlevel=[['pramish',9.9],['anjana',8.9],['jibin',7.5],['rahul',6.3],['abhi',7],['shanfeer',5],['soorya',2],['anuja',10],['gopu',1.5],['revathy',6]]\n",
    "mydf=pd.DataFrame(IQlevel,columns=['Person','IQ'])\n",
    "mydf\n"
   ]
  },
  {
   "cell_type": "markdown",
   "id": "a2c634b3",
   "metadata": {},
   "source": [
    "#### 2.Dataframe using dictionaries"
   ]
  },
  {
   "cell_type": "code",
   "execution_count": 14,
   "id": "821f95f8",
   "metadata": {
    "scrolled": true
   },
   "outputs": [
    {
     "data": {
      "text/html": [
       "<div>\n",
       "<style scoped>\n",
       "    .dataframe tbody tr th:only-of-type {\n",
       "        vertical-align: middle;\n",
       "    }\n",
       "\n",
       "    .dataframe tbody tr th {\n",
       "        vertical-align: top;\n",
       "    }\n",
       "\n",
       "    .dataframe thead th {\n",
       "        text-align: right;\n",
       "    }\n",
       "</style>\n",
       "<table border=\"1\" class=\"dataframe\">\n",
       "  <thead>\n",
       "    <tr style=\"text-align: right;\">\n",
       "      <th></th>\n",
       "      <th>people</th>\n",
       "      <th>IQ</th>\n",
       "    </tr>\n",
       "  </thead>\n",
       "  <tbody>\n",
       "    <tr>\n",
       "      <th>0</th>\n",
       "      <td>pramish</td>\n",
       "      <td>9.9</td>\n",
       "    </tr>\n",
       "    <tr>\n",
       "      <th>1</th>\n",
       "      <td>anjana</td>\n",
       "      <td>8.9</td>\n",
       "    </tr>\n",
       "    <tr>\n",
       "      <th>2</th>\n",
       "      <td>jibin</td>\n",
       "      <td>7.5</td>\n",
       "    </tr>\n",
       "    <tr>\n",
       "      <th>3</th>\n",
       "      <td>rahul</td>\n",
       "      <td>6.3</td>\n",
       "    </tr>\n",
       "    <tr>\n",
       "      <th>4</th>\n",
       "      <td>abhi</td>\n",
       "      <td>7.0</td>\n",
       "    </tr>\n",
       "    <tr>\n",
       "      <th>5</th>\n",
       "      <td>shanfeer</td>\n",
       "      <td>5.0</td>\n",
       "    </tr>\n",
       "    <tr>\n",
       "      <th>6</th>\n",
       "      <td>soorya</td>\n",
       "      <td>2.0</td>\n",
       "    </tr>\n",
       "    <tr>\n",
       "      <th>7</th>\n",
       "      <td>anuja</td>\n",
       "      <td>10.0</td>\n",
       "    </tr>\n",
       "    <tr>\n",
       "      <th>8</th>\n",
       "      <td>gopu</td>\n",
       "      <td>1.5</td>\n",
       "    </tr>\n",
       "    <tr>\n",
       "      <th>9</th>\n",
       "      <td>revathy</td>\n",
       "      <td>6.0</td>\n",
       "    </tr>\n",
       "  </tbody>\n",
       "</table>\n",
       "</div>"
      ],
      "text/plain": [
       "     people    IQ\n",
       "0   pramish   9.9\n",
       "1    anjana   8.9\n",
       "2     jibin   7.5\n",
       "3     rahul   6.3\n",
       "4      abhi   7.0\n",
       "5  shanfeer   5.0\n",
       "6    soorya   2.0\n",
       "7     anuja  10.0\n",
       "8      gopu   1.5\n",
       "9   revathy   6.0"
      ]
     },
     "execution_count": 14,
     "metadata": {},
     "output_type": "execute_result"
    }
   ],
   "source": [
    "IQlevel={'people':[\"pramish\",\"anjana\",\"jibin\",\"rahul\",\"abhi\",\"shanfeer\",\"soorya\",\"anuja\",\"gopu\",\"revathy\"],   \n",
    "'IQ':[9.9,8.9,7.5,6.3,7,5,2,10,1.5,6],  \n",
    "}\n",
    "mydf=pd.DataFrame(IQlevel) \n",
    "mydf\n",
    "         "
   ]
  },
  {
   "cell_type": "markdown",
   "id": "68c7e24b",
   "metadata": {},
   "source": [
    "#### 3. Dataframe using list of dictionaries"
   ]
  },
  {
   "cell_type": "code",
   "execution_count": 17,
   "id": "f69429d8",
   "metadata": {
    "scrolled": true
   },
   "outputs": [
    {
     "data": {
      "text/html": [
       "<div>\n",
       "<style scoped>\n",
       "    .dataframe tbody tr th:only-of-type {\n",
       "        vertical-align: middle;\n",
       "    }\n",
       "\n",
       "    .dataframe tbody tr th {\n",
       "        vertical-align: top;\n",
       "    }\n",
       "\n",
       "    .dataframe thead th {\n",
       "        text-align: right;\n",
       "    }\n",
       "</style>\n",
       "<table border=\"1\" class=\"dataframe\">\n",
       "  <thead>\n",
       "    <tr style=\"text-align: right;\">\n",
       "      <th></th>\n",
       "      <th>people</th>\n",
       "      <th>IQ</th>\n",
       "    </tr>\n",
       "  </thead>\n",
       "  <tbody>\n",
       "    <tr>\n",
       "      <th>0</th>\n",
       "      <td>pramish</td>\n",
       "      <td>9.9</td>\n",
       "    </tr>\n",
       "    <tr>\n",
       "      <th>1</th>\n",
       "      <td>anjana</td>\n",
       "      <td>8.9</td>\n",
       "    </tr>\n",
       "    <tr>\n",
       "      <th>2</th>\n",
       "      <td>jibin</td>\n",
       "      <td>7.5</td>\n",
       "    </tr>\n",
       "    <tr>\n",
       "      <th>3</th>\n",
       "      <td>rahul</td>\n",
       "      <td>6.3</td>\n",
       "    </tr>\n",
       "    <tr>\n",
       "      <th>4</th>\n",
       "      <td>abhi</td>\n",
       "      <td>7.0</td>\n",
       "    </tr>\n",
       "    <tr>\n",
       "      <th>5</th>\n",
       "      <td>shanfeer</td>\n",
       "      <td>5.0</td>\n",
       "    </tr>\n",
       "    <tr>\n",
       "      <th>6</th>\n",
       "      <td>soorya</td>\n",
       "      <td>2.0</td>\n",
       "    </tr>\n",
       "    <tr>\n",
       "      <th>7</th>\n",
       "      <td>anuja</td>\n",
       "      <td>10.0</td>\n",
       "    </tr>\n",
       "    <tr>\n",
       "      <th>8</th>\n",
       "      <td>gopu</td>\n",
       "      <td>1.5</td>\n",
       "    </tr>\n",
       "    <tr>\n",
       "      <th>9</th>\n",
       "      <td>revathy</td>\n",
       "      <td>6.0</td>\n",
       "    </tr>\n",
       "  </tbody>\n",
       "</table>\n",
       "</div>"
      ],
      "text/plain": [
       "     people    IQ\n",
       "0   pramish   9.9\n",
       "1    anjana   8.9\n",
       "2     jibin   7.5\n",
       "3     rahul   6.3\n",
       "4      abhi   7.0\n",
       "5  shanfeer   5.0\n",
       "6    soorya   2.0\n",
       "7     anuja  10.0\n",
       "8      gopu   1.5\n",
       "9   revathy   6.0"
      ]
     },
     "execution_count": 17,
     "metadata": {},
     "output_type": "execute_result"
    }
   ],
   "source": [
    "IQlevel=[\n",
    "{'people':'pramish', 'IQ':9.9},   \n",
    "{'people':'anjana', 'IQ':8.9},  \n",
    "{'people':'jibin', 'IQ':7.5},  \n",
    "{'people':'rahul', 'IQ':6.3},  \n",
    "{'people':'abhi', 'IQ':7},\n",
    "{'people':'shanfeer', 'IQ':5},   \n",
    "{'people':'soorya', 'IQ':2},\n",
    "{'people':'anuja', 'IQ':10},\n",
    "{'people':'gopu', 'IQ':1.5},\n",
    "{'people':'revathy', 'IQ':6},\n",
    "]\n",
    "mydf=pd.DataFrame(IQlevel)\n",
    "mydf"
   ]
  },
  {
   "cell_type": "markdown",
   "id": "c5747686",
   "metadata": {},
   "source": [
    "#### 4. Dataframe using list of dictionaries  with null items"
   ]
  },
  {
   "cell_type": "code",
   "execution_count": 20,
   "id": "abe732d0",
   "metadata": {},
   "outputs": [
    {
     "data": {
      "text/html": [
       "<div>\n",
       "<style scoped>\n",
       "    .dataframe tbody tr th:only-of-type {\n",
       "        vertical-align: middle;\n",
       "    }\n",
       "\n",
       "    .dataframe tbody tr th {\n",
       "        vertical-align: top;\n",
       "    }\n",
       "\n",
       "    .dataframe thead th {\n",
       "        text-align: right;\n",
       "    }\n",
       "</style>\n",
       "<table border=\"1\" class=\"dataframe\">\n",
       "  <thead>\n",
       "    <tr style=\"text-align: right;\">\n",
       "      <th></th>\n",
       "      <th>people</th>\n",
       "      <th>IQ</th>\n",
       "    </tr>\n",
       "  </thead>\n",
       "  <tbody>\n",
       "    <tr>\n",
       "      <th>0</th>\n",
       "      <td>pramish</td>\n",
       "      <td>NaN</td>\n",
       "    </tr>\n",
       "    <tr>\n",
       "      <th>1</th>\n",
       "      <td>anjana</td>\n",
       "      <td>8.9</td>\n",
       "    </tr>\n",
       "    <tr>\n",
       "      <th>2</th>\n",
       "      <td>jibin</td>\n",
       "      <td>7.5</td>\n",
       "    </tr>\n",
       "    <tr>\n",
       "      <th>3</th>\n",
       "      <td>rahul</td>\n",
       "      <td>6.3</td>\n",
       "    </tr>\n",
       "    <tr>\n",
       "      <th>4</th>\n",
       "      <td>abhi</td>\n",
       "      <td>7.0</td>\n",
       "    </tr>\n",
       "    <tr>\n",
       "      <th>5</th>\n",
       "      <td>shanfeer</td>\n",
       "      <td>NaN</td>\n",
       "    </tr>\n",
       "    <tr>\n",
       "      <th>6</th>\n",
       "      <td>soorya</td>\n",
       "      <td>2.0</td>\n",
       "    </tr>\n",
       "    <tr>\n",
       "      <th>7</th>\n",
       "      <td>anuja</td>\n",
       "      <td>NaN</td>\n",
       "    </tr>\n",
       "    <tr>\n",
       "      <th>8</th>\n",
       "      <td>gopu</td>\n",
       "      <td>1.5</td>\n",
       "    </tr>\n",
       "    <tr>\n",
       "      <th>9</th>\n",
       "      <td>revathy</td>\n",
       "      <td>6.0</td>\n",
       "    </tr>\n",
       "  </tbody>\n",
       "</table>\n",
       "</div>"
      ],
      "text/plain": [
       "     people   IQ\n",
       "0   pramish  NaN\n",
       "1    anjana  8.9\n",
       "2     jibin  7.5\n",
       "3     rahul  6.3\n",
       "4      abhi  7.0\n",
       "5  shanfeer  NaN\n",
       "6    soorya  2.0\n",
       "7     anuja  NaN\n",
       "8      gopu  1.5\n",
       "9   revathy  6.0"
      ]
     },
     "execution_count": 20,
     "metadata": {},
     "output_type": "execute_result"
    }
   ],
   "source": [
    "IQlevel=[\n",
    "{'people':'pramish'},   \n",
    "{'people':'anjana', 'IQ':8.9},  \n",
    "{'people':'jibin', 'IQ':7.5},  \n",
    "{'people':'rahul', 'IQ':6.3},  \n",
    "{'people':'abhi', 'IQ':7},\n",
    "{'people':'shanfeer'},   \n",
    "{'people':'soorya', 'IQ':2},\n",
    "{'people':'anuja'},\n",
    "{'people':'gopu', 'IQ':1.5},\n",
    "{'people':'revathy', 'IQ':6},    \n",
    "]\n",
    "mydf=pd.DataFrame(IQlevel)\n",
    "mydf\n",
    "    \n",
    "    \n",
    "    \n",
    "    \n",
    "    \n",
    "    \n",
    "    \n",
    "    \n"
   ]
  }
 ],
 "metadata": {
  "kernelspec": {
   "display_name": "Python 3 (ipykernel)",
   "language": "python",
   "name": "python3"
  },
  "language_info": {
   "codemirror_mode": {
    "name": "ipython",
    "version": 3
   },
   "file_extension": ".py",
   "mimetype": "text/x-python",
   "name": "python",
   "nbconvert_exporter": "python",
   "pygments_lexer": "ipython3",
   "version": "3.9.13"
  }
 },
 "nbformat": 4,
 "nbformat_minor": 5
}
